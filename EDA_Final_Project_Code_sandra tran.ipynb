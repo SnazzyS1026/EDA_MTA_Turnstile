{
 "cells": [
  {
   "cell_type": "code",
   "execution_count": 1,
   "id": "279edf68",
   "metadata": {},
   "outputs": [],
   "source": [
    "import pandas as pd\n",
    "import numpy as np\n",
    "import matplotlib.pyplot as plt\n",
    "import seaborn as sns"
   ]
  },
  {
   "cell_type": "code",
   "execution_count": 2,
   "id": "3626cd20",
   "metadata": {},
   "outputs": [
    {
     "name": "stdout",
     "output_type": "stream",
     "text": [
      "<class 'pandas.core.frame.DataFrame'>\n",
      "RangeIndex: 6068 entries, 0 to 6067\n",
      "Data columns (total 6 columns):\n",
      " #   Column          Non-Null Count  Dtype  \n",
      "---  ------          --------------  -----  \n",
      " 0   Location        6068 non-null   object \n",
      " 1   Household Type  6068 non-null   object \n",
      " 2   TimeFrame       6068 non-null   int64  \n",
      " 3   DataFormat      6068 non-null   object \n",
      " 4   Data            6064 non-null   float64\n",
      " 5   Fips            6068 non-null   int64  \n",
      "dtypes: float64(1), int64(2), object(3)\n",
      "memory usage: 284.6+ KB\n"
     ]
    }
   ],
   "source": [
    "# File with median incomes and location, from 2005 - 2019\n",
    "\n",
    "df = pd.read_excel(r\"C:\\Users\\sandr\\OneDrive\\Desktop\\Metis\\DS_Engineering\\1_Exploratory Data Analysis\\nyc_median_incomes.xlsx\")\n",
    "# df = df[['Location', 'TimeFrame', 'DataFormat', 'Data']]\n",
    "\n",
    "# Take a look at the datatypes\n",
    "df.info()"
   ]
  },
  {
   "cell_type": "code",
   "execution_count": 3,
   "id": "5160c84f",
   "metadata": {},
   "outputs": [
    {
     "data": {
      "text/html": [
       "<div>\n",
       "<style scoped>\n",
       "    .dataframe tbody tr th:only-of-type {\n",
       "        vertical-align: middle;\n",
       "    }\n",
       "\n",
       "    .dataframe tbody tr th {\n",
       "        vertical-align: top;\n",
       "    }\n",
       "\n",
       "    .dataframe thead th {\n",
       "        text-align: right;\n",
       "    }\n",
       "</style>\n",
       "<table border=\"1\" class=\"dataframe\">\n",
       "  <thead>\n",
       "    <tr style=\"text-align: right;\">\n",
       "      <th></th>\n",
       "      <th>Location</th>\n",
       "      <th>Household Type</th>\n",
       "      <th>TimeFrame</th>\n",
       "      <th>DataFormat</th>\n",
       "      <th>Data</th>\n",
       "      <th>Fips</th>\n",
       "    </tr>\n",
       "  </thead>\n",
       "  <tbody>\n",
       "    <tr>\n",
       "      <th>0</th>\n",
       "      <td>Astoria</td>\n",
       "      <td>Families without Children</td>\n",
       "      <td>2019</td>\n",
       "      <td>Dollars</td>\n",
       "      <td>92755.00000</td>\n",
       "      <td>401</td>\n",
       "    </tr>\n",
       "    <tr>\n",
       "      <th>1</th>\n",
       "      <td>Astoria</td>\n",
       "      <td>Families with Children</td>\n",
       "      <td>2019</td>\n",
       "      <td>Dollars</td>\n",
       "      <td>75972.00000</td>\n",
       "      <td>401</td>\n",
       "    </tr>\n",
       "    <tr>\n",
       "      <th>2</th>\n",
       "      <td>Astoria</td>\n",
       "      <td>Families</td>\n",
       "      <td>2019</td>\n",
       "      <td>Dollars</td>\n",
       "      <td>88662.00000</td>\n",
       "      <td>401</td>\n",
       "    </tr>\n",
       "    <tr>\n",
       "      <th>3</th>\n",
       "      <td>Astoria</td>\n",
       "      <td>All Households</td>\n",
       "      <td>2019</td>\n",
       "      <td>Dollars</td>\n",
       "      <td>79180.00000</td>\n",
       "      <td>401</td>\n",
       "    </tr>\n",
       "    <tr>\n",
       "      <th>4</th>\n",
       "      <td>Astoria</td>\n",
       "      <td>Families without Children</td>\n",
       "      <td>2018</td>\n",
       "      <td>Dollars</td>\n",
       "      <td>79374.50784</td>\n",
       "      <td>401</td>\n",
       "    </tr>\n",
       "  </tbody>\n",
       "</table>\n",
       "</div>"
      ],
      "text/plain": [
       "  Location             Household Type  TimeFrame DataFormat         Data  Fips\n",
       "0  Astoria  Families without Children       2019    Dollars  92755.00000   401\n",
       "1  Astoria     Families with Children       2019    Dollars  75972.00000   401\n",
       "2  Astoria                   Families       2019    Dollars  88662.00000   401\n",
       "3  Astoria             All Households       2019    Dollars  79180.00000   401\n",
       "4  Astoria  Families without Children       2018    Dollars  79374.50784   401"
      ]
     },
     "execution_count": 3,
     "metadata": {},
     "output_type": "execute_result"
    }
   ],
   "source": [
    "# Take a look at the first few rows\n",
    "df.head()"
   ]
  },
  {
   "cell_type": "code",
   "execution_count": 4,
   "id": "f067870a",
   "metadata": {},
   "outputs": [
    {
     "data": {
      "text/plain": [
       "Index(['Location', 'Household Type', 'TimeFrame', 'DataFormat', 'Data',\n",
       "       'Fips'],\n",
       "      dtype='object')"
      ]
     },
     "execution_count": 4,
     "metadata": {},
     "output_type": "execute_result"
    }
   ],
   "source": [
    "# Look at column names\n",
    "df.columns"
   ]
  },
  {
   "cell_type": "code",
   "execution_count": 5,
   "id": "399e7605",
   "metadata": {},
   "outputs": [
    {
     "data": {
      "text/plain": [
       "(6068, 6)"
      ]
     },
     "execution_count": 5,
     "metadata": {},
     "output_type": "execute_result"
    }
   ],
   "source": [
    "# How many rows and columsn does the dataset have?\n",
    "df.shape"
   ]
  },
  {
   "cell_type": "code",
   "execution_count": 6,
   "id": "df788b23",
   "metadata": {},
   "outputs": [
    {
     "data": {
      "text/plain": [
       "Data    4\n",
       "dtype: int64"
      ]
     },
     "execution_count": 6,
     "metadata": {},
     "output_type": "execute_result"
    }
   ],
   "source": [
    "# Identify which columns have null values\n",
    "\n",
    "null_counts = df.isnull().sum()\n",
    "null_counts[null_counts > 0].sort_values(ascending=False)"
   ]
  },
  {
   "cell_type": "code",
   "execution_count": 7,
   "id": "9fc91a81",
   "metadata": {},
   "outputs": [
    {
     "data": {
      "text/html": [
       "<div>\n",
       "<style scoped>\n",
       "    .dataframe tbody tr th:only-of-type {\n",
       "        vertical-align: middle;\n",
       "    }\n",
       "\n",
       "    .dataframe tbody tr th {\n",
       "        vertical-align: top;\n",
       "    }\n",
       "\n",
       "    .dataframe thead th {\n",
       "        text-align: right;\n",
       "    }\n",
       "</style>\n",
       "<table border=\"1\" class=\"dataframe\">\n",
       "  <thead>\n",
       "    <tr style=\"text-align: right;\">\n",
       "      <th></th>\n",
       "      <th>Location</th>\n",
       "      <th>Household Type</th>\n",
       "      <th>TimeFrame</th>\n",
       "      <th>DataFormat</th>\n",
       "      <th>Data</th>\n",
       "      <th>Fips</th>\n",
       "    </tr>\n",
       "  </thead>\n",
       "  <tbody>\n",
       "    <tr>\n",
       "      <th>102</th>\n",
       "      <td>Battery Park/Tribeca</td>\n",
       "      <td>Families with Children</td>\n",
       "      <td>2015</td>\n",
       "      <td>Dollars</td>\n",
       "      <td>NaN</td>\n",
       "      <td>101</td>\n",
       "    </tr>\n",
       "    <tr>\n",
       "      <th>1697</th>\n",
       "      <td>Greenwich Village</td>\n",
       "      <td>Families with Children</td>\n",
       "      <td>2015</td>\n",
       "      <td>Dollars</td>\n",
       "      <td>NaN</td>\n",
       "      <td>102</td>\n",
       "    </tr>\n",
       "    <tr>\n",
       "      <th>2357</th>\n",
       "      <td>Murray Hill/Stuyvesant</td>\n",
       "      <td>Families with Children</td>\n",
       "      <td>2015</td>\n",
       "      <td>Dollars</td>\n",
       "      <td>NaN</td>\n",
       "      <td>106</td>\n",
       "    </tr>\n",
       "    <tr>\n",
       "      <th>3573</th>\n",
       "      <td>Upper East Side</td>\n",
       "      <td>Families with Children</td>\n",
       "      <td>2011</td>\n",
       "      <td>Dollars</td>\n",
       "      <td>NaN</td>\n",
       "      <td>108</td>\n",
       "    </tr>\n",
       "  </tbody>\n",
       "</table>\n",
       "</div>"
      ],
      "text/plain": [
       "                    Location          Household Type  TimeFrame DataFormat  \\\n",
       "102     Battery Park/Tribeca  Families with Children       2015    Dollars   \n",
       "1697       Greenwich Village  Families with Children       2015    Dollars   \n",
       "2357  Murray Hill/Stuyvesant  Families with Children       2015    Dollars   \n",
       "3573         Upper East Side  Families with Children       2011    Dollars   \n",
       "\n",
       "      Data  Fips  \n",
       "102    NaN   101  \n",
       "1697   NaN   102  \n",
       "2357   NaN   106  \n",
       "3573   NaN   108  "
      ]
     },
     "execution_count": 7,
     "metadata": {},
     "output_type": "execute_result"
    }
   ],
   "source": [
    "# Identify the rows with null values\n",
    "\n",
    "df_null = df[df.isnull().any(axis=1)]\n",
    "df_null"
   ]
  },
  {
   "cell_type": "code",
   "execution_count": 8,
   "id": "243d374c",
   "metadata": {},
   "outputs": [
    {
     "data": {
      "text/plain": [
       "Location          0\n",
       "Household Type    0\n",
       "TimeFrame         0\n",
       "DataFormat        0\n",
       "Data              0\n",
       "Fips              0\n",
       "dtype: int64"
      ]
     },
     "execution_count": 8,
     "metadata": {},
     "output_type": "execute_result"
    }
   ],
   "source": [
    "# Remove rows with null values\n",
    "\n",
    "df = df.dropna()\n",
    "\n",
    "# verify no null values\n",
    "df.isnull().sum() "
   ]
  },
  {
   "cell_type": "code",
   "execution_count": 9,
   "id": "a54cfaa4",
   "metadata": {},
   "outputs": [],
   "source": [
    "# Remove unncessary columns - 'Data Format' and eventually 'TimeFrame\n",
    "# df.groupby(['Location', 'TimeFrame'])\n",
    "# df.head()"
   ]
  },
  {
   "cell_type": "code",
   "execution_count": 10,
   "id": "5adf78d2",
   "metadata": {},
   "outputs": [
    {
     "name": "stdout",
     "output_type": "stream",
     "text": [
      "The time frame for this dataset ranges from 2005 to 2019\n"
     ]
    }
   ],
   "source": [
    "# Find the range of the TimeFrame\n",
    "year = df.TimeFrame\n",
    "min_year = year.min()\n",
    "max_year = year.max()\n",
    "print(f\"The time frame for this dataset ranges from {min_year} to {max_year}\")"
   ]
  },
  {
   "cell_type": "code",
   "execution_count": 11,
   "id": "3a3d62f0",
   "metadata": {},
   "outputs": [
    {
     "data": {
      "text/html": [
       "<div>\n",
       "<style scoped>\n",
       "    .dataframe tbody tr th:only-of-type {\n",
       "        vertical-align: middle;\n",
       "    }\n",
       "\n",
       "    .dataframe tbody tr th {\n",
       "        vertical-align: top;\n",
       "    }\n",
       "\n",
       "    .dataframe thead th {\n",
       "        text-align: right;\n",
       "    }\n",
       "</style>\n",
       "<table border=\"1\" class=\"dataframe\">\n",
       "  <thead>\n",
       "    <tr style=\"text-align: right;\">\n",
       "      <th></th>\n",
       "      <th>Location</th>\n",
       "      <th>Data</th>\n",
       "    </tr>\n",
       "  </thead>\n",
       "  <tbody>\n",
       "    <tr>\n",
       "      <th>0</th>\n",
       "      <td>Astoria</td>\n",
       "      <td>92755.00000</td>\n",
       "    </tr>\n",
       "    <tr>\n",
       "      <th>1</th>\n",
       "      <td>Astoria</td>\n",
       "      <td>75972.00000</td>\n",
       "    </tr>\n",
       "    <tr>\n",
       "      <th>2</th>\n",
       "      <td>Astoria</td>\n",
       "      <td>88662.00000</td>\n",
       "    </tr>\n",
       "    <tr>\n",
       "      <th>3</th>\n",
       "      <td>Astoria</td>\n",
       "      <td>79180.00000</td>\n",
       "    </tr>\n",
       "    <tr>\n",
       "      <th>4</th>\n",
       "      <td>Astoria</td>\n",
       "      <td>79374.50784</td>\n",
       "    </tr>\n",
       "    <tr>\n",
       "      <th>...</th>\n",
       "      <td>...</td>\n",
       "      <td>...</td>\n",
       "    </tr>\n",
       "    <tr>\n",
       "      <th>6063</th>\n",
       "      <td>Zip Code 10474</td>\n",
       "      <td>22568.09834</td>\n",
       "    </tr>\n",
       "    <tr>\n",
       "      <th>6064</th>\n",
       "      <td>Zip Code 10454</td>\n",
       "      <td>22466.93352</td>\n",
       "    </tr>\n",
       "    <tr>\n",
       "      <th>6065</th>\n",
       "      <td>Zip Code 10454</td>\n",
       "      <td>21532.17550</td>\n",
       "    </tr>\n",
       "    <tr>\n",
       "      <th>6066</th>\n",
       "      <td>Zip Code 10454</td>\n",
       "      <td>21447.00000</td>\n",
       "    </tr>\n",
       "    <tr>\n",
       "      <th>6067</th>\n",
       "      <td>Zip Code 10474</td>\n",
       "      <td>20114.00000</td>\n",
       "    </tr>\n",
       "  </tbody>\n",
       "</table>\n",
       "<p>6064 rows × 2 columns</p>\n",
       "</div>"
      ],
      "text/plain": [
       "            Location         Data\n",
       "0            Astoria  92755.00000\n",
       "1            Astoria  75972.00000\n",
       "2            Astoria  88662.00000\n",
       "3            Astoria  79180.00000\n",
       "4            Astoria  79374.50784\n",
       "...              ...          ...\n",
       "6063  Zip Code 10474  22568.09834\n",
       "6064  Zip Code 10454  22466.93352\n",
       "6065  Zip Code 10454  21532.17550\n",
       "6066  Zip Code 10454  21447.00000\n",
       "6067  Zip Code 10474  20114.00000\n",
       "\n",
       "[6064 rows x 2 columns]"
      ]
     },
     "execution_count": 11,
     "metadata": {},
     "output_type": "execute_result"
    }
   ],
   "source": [
    "# Use only relevant columns for data\n",
    "df = df[['Location', 'Data']]\n",
    "df"
   ]
  },
  {
   "cell_type": "code",
   "execution_count": null,
   "id": "38e396e0",
   "metadata": {},
   "outputs": [],
   "source": [
    "# List median income in descending order\n",
    "\n",
    "df_highest = df.groupby('Location').median('Data').reset_index().sort_values(by='Data', ascending=False)\n",
    "df_highest"
   ]
  },
  {
   "cell_type": "code",
   "execution_count": null,
   "id": "ba9819af",
   "metadata": {},
   "outputs": [],
   "source": [
    "# Remove the \"zip code\"\n",
    "\n",
    "def get_zip(location):\n",
    "    zip_code = []\n",
    "    if location[:8] == 'Zip Code':\n",
    "        zip_code.append(location[9:])\n",
    "    return zip_code\n",
    "        \n",
    "    \n",
    "result = df['Location'].apply(get_zip)\n",
    "result\n"
   ]
  },
  {
   "cell_type": "code",
   "execution_count": null,
   "id": "7bbd26dc",
   "metadata": {},
   "outputs": [],
   "source": [
    "# Find the median income for each location\n",
    "\n",
    "df_lowest = df.groupby('Location').median('Data').reset_index().sort_values(by='Data')\n",
    "df_lowest.head(10)\n"
   ]
  },
  {
   "cell_type": "markdown",
   "id": "6237ff8f",
   "metadata": {},
   "source": [
    "###  5 Lowest Median Income Locations in NYC"
   ]
  },
  {
   "cell_type": "markdown",
   "id": "4fdaaa33",
   "metadata": {},
   "source": [
    "### Are located in the Bronx"
   ]
  },
  {
   "cell_type": "code",
   "execution_count": null,
   "id": "bbc1c61f",
   "metadata": {},
   "outputs": [],
   "source": [
    "# Only view the 5 lowest median income areas by Zip Codes\n",
    "\n",
    "low_5 = df.loc[df['Location'].isin([\"Zip Code 10454\", \"Zip Code 10455\", \"Zip Code 10460\", \"Zip Code 10453\", \"Zip Code 10474\"])]\n",
    "low_5_median = low_5.groupby('Location').median().reset_index().sort_values(by='Data')\n",
    "low_5_median"
   ]
  },
  {
   "cell_type": "code",
   "execution_count": null,
   "id": "0f309138",
   "metadata": {},
   "outputs": [],
   "source": [
    "# Find the mean\n",
    "low_5_mean = low_5.groupby('Location').mean().reset_index().sort_values(by='Data')\n",
    "low_5_mean"
   ]
  },
  {
   "cell_type": "markdown",
   "id": "0870c736",
   "metadata": {},
   "source": [
    "## Visualizations"
   ]
  },
  {
   "cell_type": "code",
   "execution_count": null,
   "id": "95ca40e2",
   "metadata": {},
   "outputs": [],
   "source": [
    "# Plot mean incomes\n",
    "\n",
    "plt.xticks(rotation=45)\n",
    "plt.ylabel(\"Dollars\")\n",
    "plt.title(\"Lowest Mean Incomes in the Bronx\", size=20, fontweight=\"bold\")\n",
    "\n",
    "plt.ylim(24000,33000)\n",
    "\n",
    "values = low_5_mean['Data']\n",
    "names = low_5_mean['Location']\n",
    "\n",
    "plt.bar(names, values, alpha=0.2)"
   ]
  },
  {
   "cell_type": "code",
   "execution_count": null,
   "id": "86eef915",
   "metadata": {},
   "outputs": [],
   "source": [
    "# Plot median incomes\n",
    "\n",
    "plt.xticks(rotation=45)\n",
    "plt.ylabel(\"Dollars\")\n",
    "plt.title(\"Lowest Median Incomes in the Bronx\", size=20, fontweight=\"bold\")\n",
    "\n",
    "plt.ylim(24000,31000)\n",
    "\n",
    "values = low_5_median['Data']\n",
    "names = low_5_median['Location']\n",
    "\n",
    "plt.bar(names, values)\n"
   ]
  },
  {
   "cell_type": "code",
   "execution_count": null,
   "id": "3352a955",
   "metadata": {},
   "outputs": [],
   "source": [
    "# Plot the mean incomes against the median incomes\n",
    "\n",
    "mean = low_5_mean['Data']\n",
    "median = low_5_median['Data']\n",
    "zips = low_5_mean['Location']\n",
    "\n",
    "plt.ylim(24000,33000)\n",
    "\n",
    "plt.plot(zips, mean)\n",
    "plt.plot(zips, median)\n",
    "\n",
    "plt.title('Mean Income vs Median Income', fontweight='bold', size=18)\n",
    "plt.xticks(rotation=45)\n",
    "plt.ylabel(\"Dollars\")\n",
    "\n",
    "plt.legend(['Mean Income', 'Median Income'], loc='lower right')\n"
   ]
  },
  {
   "cell_type": "code",
   "execution_count": null,
   "id": "56def506",
   "metadata": {},
   "outputs": [],
   "source": [
    "# Plot a boxplot of lowest 5 income areas\n",
    "\n",
    "values = low_5['Data']\n",
    "names = low_5['Location']\n",
    "\n",
    "plt.ylim(20000,47000)\n",
    "\n",
    "sns.boxplot(x=names,y=values)\n",
    "\n",
    "plt.xticks(rotation=45)\n",
    "plt.ylabel(\"Dollars\")\n",
    "\n",
    "plt.title('Income of Bottom 5 Zip Codes', fontweight='bold', size=17)\n",
    "\n",
    "sns.despine()"
   ]
  },
  {
   "cell_type": "code",
   "execution_count": null,
   "id": "a85d3389",
   "metadata": {},
   "outputs": [],
   "source": []
  }
 ],
 "metadata": {
  "kernelspec": {
   "display_name": "Python 3 (eda)",
   "language": "python",
   "name": "eda"
  },
  "language_info": {
   "codemirror_mode": {
    "name": "ipython",
    "version": 3
   },
   "file_extension": ".py",
   "mimetype": "text/x-python",
   "name": "python",
   "nbconvert_exporter": "python",
   "pygments_lexer": "ipython3",
   "version": "3.9.7"
  }
 },
 "nbformat": 4,
 "nbformat_minor": 5
}
